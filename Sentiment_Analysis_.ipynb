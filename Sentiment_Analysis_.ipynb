{
  "nbformat": 4,
  "nbformat_minor": 0,
  "metadata": {
    "colab": {
      "name": "Sentiment Analysis .ipynb",
      "provenance": [],
      "collapsed_sections": [],
      "authorship_tag": "ABX9TyNsGjcNRIg4pbhJxMfWV0Cz",
      "include_colab_link": true
    },
    "kernelspec": {
      "name": "python3",
      "display_name": "Python 3"
    },
    "language_info": {
      "name": "python"
    }
  },
  "cells": [
    {
      "cell_type": "markdown",
      "metadata": {
        "id": "view-in-github",
        "colab_type": "text"
      },
      "source": [
        "<a href=\"https://colab.research.google.com/github/ayush-09/NLP-Task/blob/master/Sentiment_Analysis_.ipynb\" target=\"_parent\"><img src=\"https://colab.research.google.com/assets/colab-badge.svg\" alt=\"Open In Colab\"/></a>"
      ]
    },
    {
      "cell_type": "markdown",
      "metadata": {
        "id": "WnO8er8RvGL2"
      },
      "source": [
        "# Sentiment Analysis:<br>\n",
        "<p> Sentiment Analysis uses NLP to determine whether text is positive or negative.\n",
        "</p>\n",
        "According to the text it totally based on the mood of each segment.<br>\n",
        "I assign a particular value to all unique mood.<br>\n",
        "<U>If the value less than 3 then the sentiment is negative else positive. </U>"
      ]
    },
    {
      "cell_type": "markdown",
      "metadata": {
        "id": "-nK039iby1h7"
      },
      "source": [
        "\n",
        "<TABLE>\n",
        "<TR>\n",
        "<TD><B>Mood</B></TD>\n",
        "<TD><B>Sentiment</B></TD>\n",
        "<TD><B>Value</B></TD>\n",
        "</TR>\n",
        "<TR>\n",
        "<TD>Sadness</TD>\n",
        "<TD>Negative</TD>\n",
        "<TD>0</TD>\n",
        "</TR>\n",
        "<TR>\n",
        "<TD>Anger</TD>\n",
        "<TD>Negative</TD>\n",
        "<TD>1</TD>\n",
        "</TR>\n",
        "<TR>\n",
        "<TD>Fear</TD>\n",
        "<TD>Negative</TD>\n",
        "<TD>2</TD>\n",
        "</TR><TR>\n",
        "<TD>Love</TD>\n",
        "<TD>Positive</TD>\n",
        "<TD>3</TD>\n",
        "</TR><TR>\n",
        "<TD>Joy</TD>\n",
        "<TD>Positive</TD>\n",
        "<TD>4</TD>\n",
        "</TR><TR>\n",
        "<TD>Surprise</TD>\n",
        "<TD>Positive</TD>\n",
        "<TD>5</TD>\n",
        "</TR>\n",
        "</TABLE>\n",
        "\n"
      ]
    },
    {
      "cell_type": "code",
      "metadata": {
        "colab": {
          "base_uri": "https://localhost:8080/"
        },
        "id": "2wbMXL1rkbXp",
        "outputId": "327f52e1-9912-419b-8864-1ee0f747e61f"
      },
      "source": [
        "from google.colab import drive\n",
        "drive.mount('/content/drive')"
      ],
      "execution_count": null,
      "outputs": [
        {
          "output_type": "stream",
          "name": "stdout",
          "text": [
            "Mounted at /content/drive\n"
          ]
        }
      ]
    },
    {
      "cell_type": "code",
      "metadata": {
        "id": "9NdpayVEkchB"
      },
      "source": [
        "import pandas as pd\n",
        "import numpy as np"
      ],
      "execution_count": null,
      "outputs": []
    },
    {
      "cell_type": "markdown",
      "metadata": {
        "id": "pdKJLfIzSfa0"
      },
      "source": [
        "# Convert the dataset into .csv for training the model"
      ]
    },
    {
      "cell_type": "code",
      "metadata": {
        "id": "KLw4nk5nlMkl"
      },
      "source": [
        "data = pd.read_csv(\"/content/drive/MyDrive/Sentiment DataSet/train.txt\",delimiter=';',header=None)\n",
        "data.columns = ['text','mood']\n",
        "data.to_csv(\"/content/drive/MyDrive/Sentiment DataSet/train.csv\",index=None)"
      ],
      "execution_count": null,
      "outputs": []
    },
    {
      "cell_type": "code",
      "metadata": {
        "id": "3ttQz7emmPQv"
      },
      "source": [
        "data = pd.read_csv(\"/content/drive/MyDrive/Sentiment DataSet/test.txt\",delimiter=';',header=None)\n",
        "data.columns = ['text','mood']\n",
        "data.to_csv(\"/content/drive/MyDrive/Sentiment DataSet/test.csv\",index=None)"
      ],
      "execution_count": null,
      "outputs": []
    },
    {
      "cell_type": "code",
      "metadata": {
        "id": "SL3Bu_ULmVPQ"
      },
      "source": [
        "data = pd.read_csv(\"/content/drive/MyDrive/Sentiment DataSet/val.txt\",delimiter=';',header=None)\n",
        "data.columns = ['text','mood']\n",
        "data.to_csv(\"/content/drive/MyDrive/Sentiment DataSet/val.csv\",index=None)"
      ],
      "execution_count": null,
      "outputs": []
    },
    {
      "cell_type": "markdown",
      "metadata": {
        "id": "AR07oRm9S6kg"
      },
      "source": [
        "## Data Preprocessing"
      ]
    },
    {
      "cell_type": "code",
      "metadata": {
        "id": "_Lzn1RCjn8iJ"
      },
      "source": [
        "train_data = pd.read_csv(\"/content/drive/MyDrive/Sentiment DataSet/train.csv\") "
      ],
      "execution_count": null,
      "outputs": []
    },
    {
      "cell_type": "code",
      "metadata": {
        "colab": {
          "base_uri": "https://localhost:8080/",
          "height": 204
        },
        "id": "qu_vhwv1oLkR",
        "outputId": "fd9dc753-4ae5-4b44-8ee2-a5684ae27af8"
      },
      "source": [
        "train_data.head()"
      ],
      "execution_count": null,
      "outputs": [
        {
          "output_type": "execute_result",
          "data": {
            "text/html": [
              "<div>\n",
              "<style scoped>\n",
              "    .dataframe tbody tr th:only-of-type {\n",
              "        vertical-align: middle;\n",
              "    }\n",
              "\n",
              "    .dataframe tbody tr th {\n",
              "        vertical-align: top;\n",
              "    }\n",
              "\n",
              "    .dataframe thead th {\n",
              "        text-align: right;\n",
              "    }\n",
              "</style>\n",
              "<table border=\"1\" class=\"dataframe\">\n",
              "  <thead>\n",
              "    <tr style=\"text-align: right;\">\n",
              "      <th></th>\n",
              "      <th>text</th>\n",
              "      <th>mood</th>\n",
              "    </tr>\n",
              "  </thead>\n",
              "  <tbody>\n",
              "    <tr>\n",
              "      <th>0</th>\n",
              "      <td>i didnt feel humiliated</td>\n",
              "      <td>sadness</td>\n",
              "    </tr>\n",
              "    <tr>\n",
              "      <th>1</th>\n",
              "      <td>i can go from feeling so hopeless to so damned...</td>\n",
              "      <td>sadness</td>\n",
              "    </tr>\n",
              "    <tr>\n",
              "      <th>2</th>\n",
              "      <td>im grabbing a minute to post i feel greedy wrong</td>\n",
              "      <td>anger</td>\n",
              "    </tr>\n",
              "    <tr>\n",
              "      <th>3</th>\n",
              "      <td>i am ever feeling nostalgic about the fireplac...</td>\n",
              "      <td>love</td>\n",
              "    </tr>\n",
              "    <tr>\n",
              "      <th>4</th>\n",
              "      <td>i am feeling grouchy</td>\n",
              "      <td>anger</td>\n",
              "    </tr>\n",
              "  </tbody>\n",
              "</table>\n",
              "</div>"
            ],
            "text/plain": [
              "                                                text     mood\n",
              "0                            i didnt feel humiliated  sadness\n",
              "1  i can go from feeling so hopeless to so damned...  sadness\n",
              "2   im grabbing a minute to post i feel greedy wrong    anger\n",
              "3  i am ever feeling nostalgic about the fireplac...     love\n",
              "4                               i am feeling grouchy    anger"
            ]
          },
          "metadata": {},
          "execution_count": 4
        }
      ]
    },
    {
      "cell_type": "code",
      "metadata": {
        "colab": {
          "base_uri": "https://localhost:8080/"
        },
        "id": "TLGwQ-22rvZo",
        "outputId": "de29881f-8729-4e71-e417-72903c83d05e"
      },
      "source": [
        "train_data.info()"
      ],
      "execution_count": null,
      "outputs": [
        {
          "output_type": "stream",
          "name": "stdout",
          "text": [
            "<class 'pandas.core.frame.DataFrame'>\n",
            "RangeIndex: 16000 entries, 0 to 15999\n",
            "Data columns (total 2 columns):\n",
            " #   Column  Non-Null Count  Dtype \n",
            "---  ------  --------------  ----- \n",
            " 0   text    16000 non-null  object\n",
            " 1   mood    16000 non-null  object\n",
            "dtypes: object(2)\n",
            "memory usage: 250.1+ KB\n"
          ]
        }
      ]
    },
    {
      "cell_type": "code",
      "metadata": {
        "colab": {
          "base_uri": "https://localhost:8080/"
        },
        "id": "LfXpK9Hjr37A",
        "outputId": "fed83f5a-45b5-4f21-fd80-40c67befcc86"
      },
      "source": [
        "train_data.shape"
      ],
      "execution_count": null,
      "outputs": [
        {
          "output_type": "execute_result",
          "data": {
            "text/plain": [
              "(16000, 2)"
            ]
          },
          "metadata": {},
          "execution_count": 6
        }
      ]
    },
    {
      "cell_type": "code",
      "metadata": {
        "id": "lkQrGaaVoNoe"
      },
      "source": [
        "test_data = pd.read_csv(\"/content/drive/MyDrive/Sentiment DataSet/test.csv\")"
      ],
      "execution_count": null,
      "outputs": []
    },
    {
      "cell_type": "code",
      "metadata": {
        "colab": {
          "base_uri": "https://localhost:8080/",
          "height": 204
        },
        "id": "6_sQ5WaCrQBr",
        "outputId": "e006a88f-66a8-4d4d-edca-112dd66f5c75"
      },
      "source": [
        "test_data.head()"
      ],
      "execution_count": null,
      "outputs": [
        {
          "output_type": "execute_result",
          "data": {
            "text/html": [
              "<div>\n",
              "<style scoped>\n",
              "    .dataframe tbody tr th:only-of-type {\n",
              "        vertical-align: middle;\n",
              "    }\n",
              "\n",
              "    .dataframe tbody tr th {\n",
              "        vertical-align: top;\n",
              "    }\n",
              "\n",
              "    .dataframe thead th {\n",
              "        text-align: right;\n",
              "    }\n",
              "</style>\n",
              "<table border=\"1\" class=\"dataframe\">\n",
              "  <thead>\n",
              "    <tr style=\"text-align: right;\">\n",
              "      <th></th>\n",
              "      <th>text</th>\n",
              "      <th>mood</th>\n",
              "    </tr>\n",
              "  </thead>\n",
              "  <tbody>\n",
              "    <tr>\n",
              "      <th>0</th>\n",
              "      <td>im feeling rather rotten so im not very ambiti...</td>\n",
              "      <td>sadness</td>\n",
              "    </tr>\n",
              "    <tr>\n",
              "      <th>1</th>\n",
              "      <td>im updating my blog because i feel shitty</td>\n",
              "      <td>sadness</td>\n",
              "    </tr>\n",
              "    <tr>\n",
              "      <th>2</th>\n",
              "      <td>i never make her separate from me because i do...</td>\n",
              "      <td>sadness</td>\n",
              "    </tr>\n",
              "    <tr>\n",
              "      <th>3</th>\n",
              "      <td>i left with my bouquet of red and yellow tulip...</td>\n",
              "      <td>joy</td>\n",
              "    </tr>\n",
              "    <tr>\n",
              "      <th>4</th>\n",
              "      <td>i was feeling a little vain when i did this one</td>\n",
              "      <td>sadness</td>\n",
              "    </tr>\n",
              "  </tbody>\n",
              "</table>\n",
              "</div>"
            ],
            "text/plain": [
              "                                                text     mood\n",
              "0  im feeling rather rotten so im not very ambiti...  sadness\n",
              "1          im updating my blog because i feel shitty  sadness\n",
              "2  i never make her separate from me because i do...  sadness\n",
              "3  i left with my bouquet of red and yellow tulip...      joy\n",
              "4    i was feeling a little vain when i did this one  sadness"
            ]
          },
          "metadata": {},
          "execution_count": 8
        }
      ]
    },
    {
      "cell_type": "code",
      "metadata": {
        "id": "hRz47vCerTBy"
      },
      "source": [
        "val_data = pd.read_csv(\"/content/drive/MyDrive/Sentiment DataSet/val.csv\")"
      ],
      "execution_count": null,
      "outputs": []
    },
    {
      "cell_type": "code",
      "metadata": {
        "colab": {
          "base_uri": "https://localhost:8080/",
          "height": 204
        },
        "id": "_TBV3J8CrfBJ",
        "outputId": "5ffac8cd-b01d-4d2e-956d-ad8bf963b426"
      },
      "source": [
        "val_data.head()"
      ],
      "execution_count": null,
      "outputs": [
        {
          "output_type": "execute_result",
          "data": {
            "text/html": [
              "<div>\n",
              "<style scoped>\n",
              "    .dataframe tbody tr th:only-of-type {\n",
              "        vertical-align: middle;\n",
              "    }\n",
              "\n",
              "    .dataframe tbody tr th {\n",
              "        vertical-align: top;\n",
              "    }\n",
              "\n",
              "    .dataframe thead th {\n",
              "        text-align: right;\n",
              "    }\n",
              "</style>\n",
              "<table border=\"1\" class=\"dataframe\">\n",
              "  <thead>\n",
              "    <tr style=\"text-align: right;\">\n",
              "      <th></th>\n",
              "      <th>text</th>\n",
              "      <th>mood</th>\n",
              "    </tr>\n",
              "  </thead>\n",
              "  <tbody>\n",
              "    <tr>\n",
              "      <th>0</th>\n",
              "      <td>im feeling quite sad and sorry for myself but ...</td>\n",
              "      <td>sadness</td>\n",
              "    </tr>\n",
              "    <tr>\n",
              "      <th>1</th>\n",
              "      <td>i feel like i am still looking at a blank canv...</td>\n",
              "      <td>sadness</td>\n",
              "    </tr>\n",
              "    <tr>\n",
              "      <th>2</th>\n",
              "      <td>i feel like a faithful servant</td>\n",
              "      <td>love</td>\n",
              "    </tr>\n",
              "    <tr>\n",
              "      <th>3</th>\n",
              "      <td>i am just feeling cranky and blue</td>\n",
              "      <td>anger</td>\n",
              "    </tr>\n",
              "    <tr>\n",
              "      <th>4</th>\n",
              "      <td>i can have for a treat or if i am feeling festive</td>\n",
              "      <td>joy</td>\n",
              "    </tr>\n",
              "  </tbody>\n",
              "</table>\n",
              "</div>"
            ],
            "text/plain": [
              "                                                text     mood\n",
              "0  im feeling quite sad and sorry for myself but ...  sadness\n",
              "1  i feel like i am still looking at a blank canv...  sadness\n",
              "2                     i feel like a faithful servant     love\n",
              "3                  i am just feeling cranky and blue    anger\n",
              "4  i can have for a treat or if i am feeling festive      joy"
            ]
          },
          "metadata": {},
          "execution_count": 10
        }
      ]
    },
    {
      "cell_type": "markdown",
      "metadata": {
        "id": "pRpyfy_gTGwU"
      },
      "source": [
        "### Assign Values for Sentiment Analysis"
      ]
    },
    {
      "cell_type": "code",
      "metadata": {
        "id": "ZJkoxZNUrhtf"
      },
      "source": [
        "train_data['mood'].unique()\n",
        "dic = {'sadness':0,'anger':1,'fear':2,'love':3,'joy':4,'surprise':5}"
      ],
      "execution_count": null,
      "outputs": []
    },
    {
      "cell_type": "code",
      "metadata": {
        "colab": {
          "base_uri": "https://localhost:8080/"
        },
        "id": "rRANcYFvsoLz",
        "outputId": "44244e9d-b187-4426-e120-d9d854df9baa"
      },
      "source": [
        "train_data['mood'].value_counts()"
      ],
      "execution_count": null,
      "outputs": [
        {
          "output_type": "execute_result",
          "data": {
            "text/plain": [
              "joy         5362\n",
              "sadness     4666\n",
              "anger       2159\n",
              "fear        1937\n",
              "love        1304\n",
              "surprise     572\n",
              "Name: mood, dtype: int64"
            ]
          },
          "metadata": {},
          "execution_count": 12
        }
      ]
    },
    {
      "cell_type": "code",
      "metadata": {
        "id": "BnZWX264s-Ht"
      },
      "source": [
        "train_data['Sentiment'] = train_data['mood'].map(dic)"
      ],
      "execution_count": null,
      "outputs": []
    },
    {
      "cell_type": "code",
      "metadata": {
        "id": "paNF5FWHtjt9"
      },
      "source": [
        "gdic = {0:'Negative',1:'Negative',2:'Negative',3:'Positive',4:'Positive',5:'Positive'}"
      ],
      "execution_count": null,
      "outputs": []
    },
    {
      "cell_type": "code",
      "metadata": {
        "id": "FRgd9yX8uO8u"
      },
      "source": [
        "train_data['General_Sentiment']= train_data['Sentiment'].map(gdic)"
      ],
      "execution_count": null,
      "outputs": []
    },
    {
      "cell_type": "code",
      "metadata": {
        "colab": {
          "base_uri": "https://localhost:8080/",
          "height": 204
        },
        "id": "LbLrVJanwoYe",
        "outputId": "34c5b36c-b8e7-4d73-8b4b-00daa7d9337d"
      },
      "source": [
        "train_data.head()"
      ],
      "execution_count": null,
      "outputs": [
        {
          "output_type": "execute_result",
          "data": {
            "text/html": [
              "<div>\n",
              "<style scoped>\n",
              "    .dataframe tbody tr th:only-of-type {\n",
              "        vertical-align: middle;\n",
              "    }\n",
              "\n",
              "    .dataframe tbody tr th {\n",
              "        vertical-align: top;\n",
              "    }\n",
              "\n",
              "    .dataframe thead th {\n",
              "        text-align: right;\n",
              "    }\n",
              "</style>\n",
              "<table border=\"1\" class=\"dataframe\">\n",
              "  <thead>\n",
              "    <tr style=\"text-align: right;\">\n",
              "      <th></th>\n",
              "      <th>text</th>\n",
              "      <th>mood</th>\n",
              "      <th>Sentiment</th>\n",
              "      <th>General_Sentiment</th>\n",
              "    </tr>\n",
              "  </thead>\n",
              "  <tbody>\n",
              "    <tr>\n",
              "      <th>0</th>\n",
              "      <td>i didnt feel humiliated</td>\n",
              "      <td>sadness</td>\n",
              "      <td>0</td>\n",
              "      <td>Negative</td>\n",
              "    </tr>\n",
              "    <tr>\n",
              "      <th>1</th>\n",
              "      <td>i can go from feeling so hopeless to so damned...</td>\n",
              "      <td>sadness</td>\n",
              "      <td>0</td>\n",
              "      <td>Negative</td>\n",
              "    </tr>\n",
              "    <tr>\n",
              "      <th>2</th>\n",
              "      <td>im grabbing a minute to post i feel greedy wrong</td>\n",
              "      <td>anger</td>\n",
              "      <td>1</td>\n",
              "      <td>Negative</td>\n",
              "    </tr>\n",
              "    <tr>\n",
              "      <th>3</th>\n",
              "      <td>i am ever feeling nostalgic about the fireplac...</td>\n",
              "      <td>love</td>\n",
              "      <td>3</td>\n",
              "      <td>Positive</td>\n",
              "    </tr>\n",
              "    <tr>\n",
              "      <th>4</th>\n",
              "      <td>i am feeling grouchy</td>\n",
              "      <td>anger</td>\n",
              "      <td>1</td>\n",
              "      <td>Negative</td>\n",
              "    </tr>\n",
              "  </tbody>\n",
              "</table>\n",
              "</div>"
            ],
            "text/plain": [
              "                                                text  ... General_Sentiment\n",
              "0                            i didnt feel humiliated  ...          Negative\n",
              "1  i can go from feeling so hopeless to so damned...  ...          Negative\n",
              "2   im grabbing a minute to post i feel greedy wrong  ...          Negative\n",
              "3  i am ever feeling nostalgic about the fireplac...  ...          Positive\n",
              "4                               i am feeling grouchy  ...          Negative\n",
              "\n",
              "[5 rows x 4 columns]"
            ]
          },
          "metadata": {},
          "execution_count": 16
        }
      ]
    },
    {
      "cell_type": "code",
      "metadata": {
        "colab": {
          "base_uri": "https://localhost:8080/",
          "height": 214
        },
        "id": "ZrPKe2FHwrIG",
        "outputId": "3e06e8b9-b67a-430e-e28e-7bb57d7be589"
      },
      "source": [
        "train_data['Length'] = train_data['text'].apply(lambda x: len(str(x).split(' ')))\n",
        "import seaborn as sns\n",
        "sns.pairplot(train_data,hue='Sentiment',vars=['Length'])"
      ],
      "execution_count": null,
      "outputs": [
        {
          "output_type": "execute_result",
          "data": {
            "text/plain": [
              "<seaborn.axisgrid.PairGrid at 0x7faff22f2750>"
            ]
          },
          "metadata": {},
          "execution_count": 49
        },
        {
          "output_type": "display_data",
          "data": {
            "image/png": "[encoded data removed]",
            "text/plain": [
              "<Figure size 239.5x180 with 2 Axes>"
            ]
          },
          "metadata": {
            "needs_background": "light"
          }
        }
      ]
    },
    {
      "cell_type": "code",
      "metadata": {
        "colab": {
          "base_uri": "https://localhost:8080/"
        },
        "id": "gGI65p9yx6j2",
        "outputId": "11cc878f-3355-403e-bd5b-1b9061a5c1e3"
      },
      "source": [
        "from tqdm import tqdm\n",
        "import nltk\n",
        "nltk.download('punkt')\n",
        "nltk.download('stopwords')\n",
        "nltk.download('wordnet')\n",
        "from nltk.tokenize import word_tokenize\n",
        "from nltk.corpus import stopwords\n",
        "from nltk.stem import WordNetLemmatizer\n",
        "import re"
      ],
      "execution_count": null,
      "outputs": [
        {
          "output_type": "stream",
          "name": "stdout",
          "text": [
            "[nltk_data] Downloading package punkt to /root/nltk_data...\n",
            "[nltk_data]   Unzipping tokenizers/punkt.zip.\n",
            "[nltk_data] Downloading package stopwords to /root/nltk_data...\n",
            "[nltk_data]   Unzipping corpora/stopwords.zip.\n",
            "[nltk_data] Downloading package wordnet to /root/nltk_data...\n",
            "[nltk_data]   Unzipping corpora/wordnet.zip.\n"
          ]
        }
      ]
    },
    {
      "cell_type": "markdown",
      "metadata": {
        "id": "ai9cSLawTWZ8"
      },
      "source": [
        "### Clean the text"
      ]
    },
    {
      "cell_type": "code",
      "metadata": {
        "id": "HV8__zFLilHN"
      },
      "source": [
        "c=0\n",
        "def clean_sentences(df):\n",
        "    global c\n",
        "    count=[]\n",
        "    selected_text = []\n",
        "    for sent in tqdm(df['text']):\n",
        "        # removing non-alphabetical characters \n",
        "        text = re.sub(\"[^a-zA-Z]\",\" \",sent)\n",
        "        \n",
        "        \n",
        "        # Now tokenizing the sentence : \n",
        "        word = word_tokenize(text)\n",
        "        words = [i.lower() for i in word]\n",
        "\n",
        "        \n",
        "        #removing stop words :\n",
        "        new_words = [ ele for ele in words if ele.lower() not in stopwords.words('english') ]\n",
        "        \n",
        "        # Lemmatizing each word to its lemma\n",
        "        lem = WordNetLemmatizer()\n",
        "        lem_words = [lem.lemmatize(i) for i in new_words]\n",
        "        \n",
        "        #finally\n",
        "        selected_text.append(lem_words)\n",
        "        c+=1\n",
        "        count.append(c)\n",
        "        \n",
        "    return(selected_text,count)"
      ],
      "execution_count": null,
      "outputs": []
    },
    {
      "cell_type": "code",
      "metadata": {
        "colab": {
          "base_uri": "https://localhost:8080/",
          "height": 35
        },
        "id": "Khdw8TGWjEST",
        "outputId": "94e69318-67b1-4f71-bde7-cfa9235af473"
      },
      "source": [
        "train_data['text'][0]"
      ],
      "execution_count": null,
      "outputs": [
        {
          "output_type": "execute_result",
          "data": {
            "application/vnd.google.colaboratory.intrinsic+json": {
              "type": "string"
            },
            "text/plain": [
              "'i didnt feel humiliated'"
            ]
          },
          "metadata": {},
          "execution_count": 19
        }
      ]
    },
    {
      "cell_type": "code",
      "metadata": {
        "colab": {
          "base_uri": "https://localhost:8080/"
        },
        "id": "nEaQ0SvDjOub",
        "outputId": "832d27e8-d39f-470a-947c-a46b374ad61c"
      },
      "source": [
        "train_sen,train_count = clean_sentences(train_data)\n",
        "test_sen,test_count = clean_sentences(test_data)\n",
        "val_sen,val_count = clean_sentences(val_data)"
      ],
      "execution_count": null,
      "outputs": [
        {
          "output_type": "stream",
          "name": "stderr",
          "text": [
            "100%|██████████| 16000/16000 [00:45<00:00, 350.10it/s]\n",
            "100%|██████████| 2000/2000 [00:05<00:00, 365.56it/s]\n",
            "100%|██████████| 2000/2000 [00:05<00:00, 373.72it/s]\n"
          ]
        }
      ]
    },
    {
      "cell_type": "code",
      "metadata": {
        "id": "UTTZnpZoWfaO"
      },
      "source": [
        "train_data['selected_text'] = train_sen\n",
        "test_data['selected_text'] = test_sen\n",
        "val_data['selected_text'] = val_sen"
      ],
      "execution_count": null,
      "outputs": []
    },
    {
      "cell_type": "code",
      "metadata": {
        "id": "VjwaIqA_kupy"
      },
      "source": [
        "train_data['textID']= train_count\n",
        "train_data.set_index(train_data['textID'],inplace=True)\n",
        "train_data.drop(train_data.columns[-1], axis=1, inplace=True)"
      ],
      "execution_count": null,
      "outputs": []
    },
    {
      "cell_type": "code",
      "metadata": {
        "id": "nlwetLorqc88"
      },
      "source": [
        "test_data['textID']= test_count\n",
        "test_data.set_index(test_data['textID'],inplace=True)\n",
        "test_data.drop(test_data.columns[-1], axis=1, inplace=True)"
      ],
      "execution_count": null,
      "outputs": []
    },
    {
      "cell_type": "code",
      "metadata": {
        "id": "4wOMcQPXqdx4"
      },
      "source": [
        "val_data['textID']= val_count\n",
        "val_data.set_index(val_data['textID'],inplace=True)\n",
        "val_data.drop(val_data.columns[-1], axis=1, inplace=True)"
      ],
      "execution_count": null,
      "outputs": []
    },
    {
      "cell_type": "code",
      "metadata": {
        "colab": {
          "base_uri": "https://localhost:8080/",
          "height": 286
        },
        "id": "jjlh9OaJWnDu",
        "outputId": "4d97c12a-3523-4436-a91a-61987f498c16"
      },
      "source": [
        "train_data.head()"
      ],
      "execution_count": null,
      "outputs": [
        {
          "output_type": "execute_result",
          "data": {
            "text/html": [
              "<div>\n",
              "<style scoped>\n",
              "    .dataframe tbody tr th:only-of-type {\n",
              "        vertical-align: middle;\n",
              "    }\n",
              "\n",
              "    .dataframe tbody tr th {\n",
              "        vertical-align: top;\n",
              "    }\n",
              "\n",
              "    .dataframe thead th {\n",
              "        text-align: right;\n",
              "    }\n",
              "</style>\n",
              "<table border=\"1\" class=\"dataframe\">\n",
              "  <thead>\n",
              "    <tr style=\"text-align: right;\">\n",
              "      <th></th>\n",
              "      <th>text</th>\n",
              "      <th>mood</th>\n",
              "      <th>Sentiment</th>\n",
              "      <th>General_Sentiment</th>\n",
              "      <th>selected_text</th>\n",
              "    </tr>\n",
              "    <tr>\n",
              "      <th>textID</th>\n",
              "      <th></th>\n",
              "      <th></th>\n",
              "      <th></th>\n",
              "      <th></th>\n",
              "      <th></th>\n",
              "    </tr>\n",
              "  </thead>\n",
              "  <tbody>\n",
              "    <tr>\n",
              "      <th>1</th>\n",
              "      <td>i didnt feel humiliated</td>\n",
              "      <td>sadness</td>\n",
              "      <td>0</td>\n",
              "      <td>Negative</td>\n",
              "      <td>[didnt, feel, humiliated]</td>\n",
              "    </tr>\n",
              "    <tr>\n",
              "      <th>2</th>\n",
              "      <td>i can go from feeling so hopeless to so damned...</td>\n",
              "      <td>sadness</td>\n",
              "      <td>0</td>\n",
              "      <td>Negative</td>\n",
              "      <td>[go, feeling, hopeless, damned, hopeful, aroun...</td>\n",
              "    </tr>\n",
              "    <tr>\n",
              "      <th>3</th>\n",
              "      <td>im grabbing a minute to post i feel greedy wrong</td>\n",
              "      <td>anger</td>\n",
              "      <td>1</td>\n",
              "      <td>Negative</td>\n",
              "      <td>[im, grabbing, minute, post, feel, greedy, wrong]</td>\n",
              "    </tr>\n",
              "    <tr>\n",
              "      <th>4</th>\n",
              "      <td>i am ever feeling nostalgic about the fireplac...</td>\n",
              "      <td>love</td>\n",
              "      <td>3</td>\n",
              "      <td>Positive</td>\n",
              "      <td>[ever, feeling, nostalgic, fireplace, know, st...</td>\n",
              "    </tr>\n",
              "    <tr>\n",
              "      <th>5</th>\n",
              "      <td>i am feeling grouchy</td>\n",
              "      <td>anger</td>\n",
              "      <td>1</td>\n",
              "      <td>Negative</td>\n",
              "      <td>[feeling, grouchy]</td>\n",
              "    </tr>\n",
              "  </tbody>\n",
              "</table>\n",
              "</div>"
            ],
            "text/plain": [
              "                                                     text  ...                                      selected_text\n",
              "textID                                                     ...                                                   \n",
              "1                                 i didnt feel humiliated  ...                          [didnt, feel, humiliated]\n",
              "2       i can go from feeling so hopeless to so damned...  ...  [go, feeling, hopeless, damned, hopeful, aroun...\n",
              "3        im grabbing a minute to post i feel greedy wrong  ...  [im, grabbing, minute, post, feel, greedy, wrong]\n",
              "4       i am ever feeling nostalgic about the fireplac...  ...  [ever, feeling, nostalgic, fireplace, know, st...\n",
              "5                                    i am feeling grouchy  ...                                 [feeling, grouchy]\n",
              "\n",
              "[5 rows x 5 columns]"
            ]
          },
          "metadata": {},
          "execution_count": 25
        }
      ]
    },
    {
      "cell_type": "code",
      "metadata": {
        "colab": {
          "base_uri": "https://localhost:8080/",
          "height": 235
        },
        "id": "q5_8eKnQq4kJ",
        "outputId": "a74f40af-c461-46e8-cc30-bdd2814d4b00"
      },
      "source": [
        "test_data.head()"
      ],
      "execution_count": null,
      "outputs": [
        {
          "output_type": "execute_result",
          "data": {
            "text/html": [
              "<div>\n",
              "<style scoped>\n",
              "    .dataframe tbody tr th:only-of-type {\n",
              "        vertical-align: middle;\n",
              "    }\n",
              "\n",
              "    .dataframe tbody tr th {\n",
              "        vertical-align: top;\n",
              "    }\n",
              "\n",
              "    .dataframe thead th {\n",
              "        text-align: right;\n",
              "    }\n",
              "</style>\n",
              "<table border=\"1\" class=\"dataframe\">\n",
              "  <thead>\n",
              "    <tr style=\"text-align: right;\">\n",
              "      <th></th>\n",
              "      <th>text</th>\n",
              "      <th>mood</th>\n",
              "      <th>selected_text</th>\n",
              "    </tr>\n",
              "    <tr>\n",
              "      <th>textID</th>\n",
              "      <th></th>\n",
              "      <th></th>\n",
              "      <th></th>\n",
              "    </tr>\n",
              "  </thead>\n",
              "  <tbody>\n",
              "    <tr>\n",
              "      <th>16001</th>\n",
              "      <td>im feeling rather rotten so im not very ambiti...</td>\n",
              "      <td>sadness</td>\n",
              "      <td>[im, feeling, rather, rotten, im, ambitious, r...</td>\n",
              "    </tr>\n",
              "    <tr>\n",
              "      <th>16002</th>\n",
              "      <td>im updating my blog because i feel shitty</td>\n",
              "      <td>sadness</td>\n",
              "      <td>[im, updating, blog, feel, shitty]</td>\n",
              "    </tr>\n",
              "    <tr>\n",
              "      <th>16003</th>\n",
              "      <td>i never make her separate from me because i do...</td>\n",
              "      <td>sadness</td>\n",
              "      <td>[never, make, separate, ever, want, feel, like...</td>\n",
              "    </tr>\n",
              "    <tr>\n",
              "      <th>16004</th>\n",
              "      <td>i left with my bouquet of red and yellow tulip...</td>\n",
              "      <td>joy</td>\n",
              "      <td>[left, bouquet, red, yellow, tulip, arm, feeli...</td>\n",
              "    </tr>\n",
              "    <tr>\n",
              "      <th>16005</th>\n",
              "      <td>i was feeling a little vain when i did this one</td>\n",
              "      <td>sadness</td>\n",
              "      <td>[feeling, little, vain, one]</td>\n",
              "    </tr>\n",
              "  </tbody>\n",
              "</table>\n",
              "</div>"
            ],
            "text/plain": [
              "                                                     text  ...                                      selected_text\n",
              "textID                                                     ...                                                   \n",
              "16001   im feeling rather rotten so im not very ambiti...  ...  [im, feeling, rather, rotten, im, ambitious, r...\n",
              "16002           im updating my blog because i feel shitty  ...                 [im, updating, blog, feel, shitty]\n",
              "16003   i never make her separate from me because i do...  ...  [never, make, separate, ever, want, feel, like...\n",
              "16004   i left with my bouquet of red and yellow tulip...  ...  [left, bouquet, red, yellow, tulip, arm, feeli...\n",
              "16005     i was feeling a little vain when i did this one  ...                       [feeling, little, vain, one]\n",
              "\n",
              "[5 rows x 3 columns]"
            ]
          },
          "metadata": {},
          "execution_count": 26
        }
      ]
    },
    {
      "cell_type": "code",
      "metadata": {
        "colab": {
          "base_uri": "https://localhost:8080/",
          "height": 235
        },
        "id": "wHadDotJPz72",
        "outputId": "0e945a0d-8d0d-4785-e3e8-98aa273ce097"
      },
      "source": [
        "val_data.head()"
      ],
      "execution_count": null,
      "outputs": [
        {
          "output_type": "execute_result",
          "data": {
            "text/html": [
              "<div>\n",
              "<style scoped>\n",
              "    .dataframe tbody tr th:only-of-type {\n",
              "        vertical-align: middle;\n",
              "    }\n",
              "\n",
              "    .dataframe tbody tr th {\n",
              "        vertical-align: top;\n",
              "    }\n",
              "\n",
              "    .dataframe thead th {\n",
              "        text-align: right;\n",
              "    }\n",
              "</style>\n",
              "<table border=\"1\" class=\"dataframe\">\n",
              "  <thead>\n",
              "    <tr style=\"text-align: right;\">\n",
              "      <th></th>\n",
              "      <th>text</th>\n",
              "      <th>mood</th>\n",
              "      <th>selected_text</th>\n",
              "    </tr>\n",
              "    <tr>\n",
              "      <th>textID</th>\n",
              "      <th></th>\n",
              "      <th></th>\n",
              "      <th></th>\n",
              "    </tr>\n",
              "  </thead>\n",
              "  <tbody>\n",
              "    <tr>\n",
              "      <th>18001</th>\n",
              "      <td>im feeling quite sad and sorry for myself but ...</td>\n",
              "      <td>sadness</td>\n",
              "      <td>[im, feeling, quite, sad, sorry, ill, snap, soon]</td>\n",
              "    </tr>\n",
              "    <tr>\n",
              "      <th>18002</th>\n",
              "      <td>i feel like i am still looking at a blank canv...</td>\n",
              "      <td>sadness</td>\n",
              "      <td>[feel, like, still, looking, blank, canvas, bl...</td>\n",
              "    </tr>\n",
              "    <tr>\n",
              "      <th>18003</th>\n",
              "      <td>i feel like a faithful servant</td>\n",
              "      <td>love</td>\n",
              "      <td>[feel, like, faithful, servant]</td>\n",
              "    </tr>\n",
              "    <tr>\n",
              "      <th>18004</th>\n",
              "      <td>i am just feeling cranky and blue</td>\n",
              "      <td>anger</td>\n",
              "      <td>[feeling, cranky, blue]</td>\n",
              "    </tr>\n",
              "    <tr>\n",
              "      <th>18005</th>\n",
              "      <td>i can have for a treat or if i am feeling festive</td>\n",
              "      <td>joy</td>\n",
              "      <td>[treat, feeling, festive]</td>\n",
              "    </tr>\n",
              "  </tbody>\n",
              "</table>\n",
              "</div>"
            ],
            "text/plain": [
              "                                                     text  ...                                      selected_text\n",
              "textID                                                     ...                                                   \n",
              "18001   im feeling quite sad and sorry for myself but ...  ...  [im, feeling, quite, sad, sorry, ill, snap, soon]\n",
              "18002   i feel like i am still looking at a blank canv...  ...  [feel, like, still, looking, blank, canvas, bl...\n",
              "18003                      i feel like a faithful servant  ...                    [feel, like, faithful, servant]\n",
              "18004                   i am just feeling cranky and blue  ...                            [feeling, cranky, blue]\n",
              "18005   i can have for a treat or if i am feeling festive  ...                          [treat, feeling, festive]\n",
              "\n",
              "[5 rows x 3 columns]"
            ]
          },
          "metadata": {},
          "execution_count": 40
        }
      ]
    },
    {
      "cell_type": "code",
      "metadata": {
        "colab": {
          "base_uri": "https://localhost:8080/",
          "height": 35
        },
        "id": "9lwAlTHDk3ey",
        "outputId": "3795d072-eb45-4801-9009-985989838b7d"
      },
      "source": [
        "(\" \").join(train_sen[0])"
      ],
      "execution_count": null,
      "outputs": [
        {
          "output_type": "execute_result",
          "data": {
            "application/vnd.google.colaboratory.intrinsic+json": {
              "type": "string"
            },
            "text/plain": [
              "'didnt feel humiliated'"
            ]
          },
          "metadata": {},
          "execution_count": 28
        }
      ]
    },
    {
      "cell_type": "markdown",
      "metadata": {
        "id": "eIn5JpqTZrdF"
      },
      "source": [
        "## Saving the data According to submission"
      ]
    },
    {
      "cell_type": "code",
      "metadata": {
        "id": "_FdBFrO3XWyY"
      },
      "source": [
        "# Train Data\n",
        "data=pd.DataFrame(train_data)\n",
        "data.to_csv('train.csv', index=False)"
      ],
      "execution_count": null,
      "outputs": []
    },
    {
      "cell_type": "code",
      "metadata": {
        "colab": {
          "base_uri": "https://localhost:8080/",
          "height": 286
        },
        "id": "Gtz2F5GXY2h5",
        "outputId": "d8050348-4a3d-405b-9499-9f265787ab35"
      },
      "source": [
        "data.head()"
      ],
      "execution_count": null,
      "outputs": [
        {
          "output_type": "execute_result",
          "data": {
            "text/html": [
              "<div>\n",
              "<style scoped>\n",
              "    .dataframe tbody tr th:only-of-type {\n",
              "        vertical-align: middle;\n",
              "    }\n",
              "\n",
              "    .dataframe tbody tr th {\n",
              "        vertical-align: top;\n",
              "    }\n",
              "\n",
              "    .dataframe thead th {\n",
              "        text-align: right;\n",
              "    }\n",
              "</style>\n",
              "<table border=\"1\" class=\"dataframe\">\n",
              "  <thead>\n",
              "    <tr style=\"text-align: right;\">\n",
              "      <th></th>\n",
              "      <th>text</th>\n",
              "      <th>mood</th>\n",
              "      <th>Sentiment</th>\n",
              "      <th>General_Sentiment</th>\n",
              "      <th>selected_text</th>\n",
              "    </tr>\n",
              "    <tr>\n",
              "      <th>textID</th>\n",
              "      <th></th>\n",
              "      <th></th>\n",
              "      <th></th>\n",
              "      <th></th>\n",
              "      <th></th>\n",
              "    </tr>\n",
              "  </thead>\n",
              "  <tbody>\n",
              "    <tr>\n",
              "      <th>1</th>\n",
              "      <td>i didnt feel humiliated</td>\n",
              "      <td>sadness</td>\n",
              "      <td>0</td>\n",
              "      <td>Negative</td>\n",
              "      <td>[didnt, feel, humiliated]</td>\n",
              "    </tr>\n",
              "    <tr>\n",
              "      <th>2</th>\n",
              "      <td>i can go from feeling so hopeless to so damned...</td>\n",
              "      <td>sadness</td>\n",
              "      <td>0</td>\n",
              "      <td>Negative</td>\n",
              "      <td>[go, feeling, hopeless, damned, hopeful, aroun...</td>\n",
              "    </tr>\n",
              "    <tr>\n",
              "      <th>3</th>\n",
              "      <td>im grabbing a minute to post i feel greedy wrong</td>\n",
              "      <td>anger</td>\n",
              "      <td>1</td>\n",
              "      <td>Negative</td>\n",
              "      <td>[im, grabbing, minute, post, feel, greedy, wrong]</td>\n",
              "    </tr>\n",
              "    <tr>\n",
              "      <th>4</th>\n",
              "      <td>i am ever feeling nostalgic about the fireplac...</td>\n",
              "      <td>love</td>\n",
              "      <td>3</td>\n",
              "      <td>Positive</td>\n",
              "      <td>[ever, feeling, nostalgic, fireplace, know, st...</td>\n",
              "    </tr>\n",
              "    <tr>\n",
              "      <th>5</th>\n",
              "      <td>i am feeling grouchy</td>\n",
              "      <td>anger</td>\n",
              "      <td>1</td>\n",
              "      <td>Negative</td>\n",
              "      <td>[feeling, grouchy]</td>\n",
              "    </tr>\n",
              "  </tbody>\n",
              "</table>\n",
              "</div>"
            ],
            "text/plain": [
              "                                                     text  ...                                      selected_text\n",
              "textID                                                     ...                                                   \n",
              "1                                 i didnt feel humiliated  ...                          [didnt, feel, humiliated]\n",
              "2       i can go from feeling so hopeless to so damned...  ...  [go, feeling, hopeless, damned, hopeful, aroun...\n",
              "3        im grabbing a minute to post i feel greedy wrong  ...  [im, grabbing, minute, post, feel, greedy, wrong]\n",
              "4       i am ever feeling nostalgic about the fireplac...  ...  [ever, feeling, nostalgic, fireplace, know, st...\n",
              "5                                    i am feeling grouchy  ...                                 [feeling, grouchy]\n",
              "\n",
              "[5 rows x 5 columns]"
            ]
          },
          "metadata": {},
          "execution_count": 44
        }
      ]
    },
    {
      "cell_type": "code",
      "metadata": {
        "id": "O8K4jcUdY66G"
      },
      "source": [
        "# Test Data\n",
        "data=pd.DataFrame(test_data)\n",
        "data.to_csv('test.csv', index=False)"
      ],
      "execution_count": null,
      "outputs": []
    },
    {
      "cell_type": "code",
      "metadata": {
        "colab": {
          "base_uri": "https://localhost:8080/",
          "height": 235
        },
        "id": "5LNcg-n6ZE70",
        "outputId": "85a0b83f-3315-44ec-fb82-94105a1b3cb6"
      },
      "source": [
        "data.head()"
      ],
      "execution_count": null,
      "outputs": [
        {
          "output_type": "execute_result",
          "data": {
            "text/html": [
              "<div>\n",
              "<style scoped>\n",
              "    .dataframe tbody tr th:only-of-type {\n",
              "        vertical-align: middle;\n",
              "    }\n",
              "\n",
              "    .dataframe tbody tr th {\n",
              "        vertical-align: top;\n",
              "    }\n",
              "\n",
              "    .dataframe thead th {\n",
              "        text-align: right;\n",
              "    }\n",
              "</style>\n",
              "<table border=\"1\" class=\"dataframe\">\n",
              "  <thead>\n",
              "    <tr style=\"text-align: right;\">\n",
              "      <th></th>\n",
              "      <th>text</th>\n",
              "      <th>mood</th>\n",
              "      <th>selected_text</th>\n",
              "    </tr>\n",
              "    <tr>\n",
              "      <th>textID</th>\n",
              "      <th></th>\n",
              "      <th></th>\n",
              "      <th></th>\n",
              "    </tr>\n",
              "  </thead>\n",
              "  <tbody>\n",
              "    <tr>\n",
              "      <th>16001</th>\n",
              "      <td>im feeling rather rotten so im not very ambiti...</td>\n",
              "      <td>sadness</td>\n",
              "      <td>[im, feeling, rather, rotten, im, ambitious, r...</td>\n",
              "    </tr>\n",
              "    <tr>\n",
              "      <th>16002</th>\n",
              "      <td>im updating my blog because i feel shitty</td>\n",
              "      <td>sadness</td>\n",
              "      <td>[im, updating, blog, feel, shitty]</td>\n",
              "    </tr>\n",
              "    <tr>\n",
              "      <th>16003</th>\n",
              "      <td>i never make her separate from me because i do...</td>\n",
              "      <td>sadness</td>\n",
              "      <td>[never, make, separate, ever, want, feel, like...</td>\n",
              "    </tr>\n",
              "    <tr>\n",
              "      <th>16004</th>\n",
              "      <td>i left with my bouquet of red and yellow tulip...</td>\n",
              "      <td>joy</td>\n",
              "      <td>[left, bouquet, red, yellow, tulip, arm, feeli...</td>\n",
              "    </tr>\n",
              "    <tr>\n",
              "      <th>16005</th>\n",
              "      <td>i was feeling a little vain when i did this one</td>\n",
              "      <td>sadness</td>\n",
              "      <td>[feeling, little, vain, one]</td>\n",
              "    </tr>\n",
              "  </tbody>\n",
              "</table>\n",
              "</div>"
            ],
            "text/plain": [
              "                                                     text  ...                                      selected_text\n",
              "textID                                                     ...                                                   \n",
              "16001   im feeling rather rotten so im not very ambiti...  ...  [im, feeling, rather, rotten, im, ambitious, r...\n",
              "16002           im updating my blog because i feel shitty  ...                 [im, updating, blog, feel, shitty]\n",
              "16003   i never make her separate from me because i do...  ...  [never, make, separate, ever, want, feel, like...\n",
              "16004   i left with my bouquet of red and yellow tulip...  ...  [left, bouquet, red, yellow, tulip, arm, feeli...\n",
              "16005     i was feeling a little vain when i did this one  ...                       [feeling, little, vain, one]\n",
              "\n",
              "[5 rows x 3 columns]"
            ]
          },
          "metadata": {},
          "execution_count": 46
        }
      ]
    },
    {
      "cell_type": "code",
      "metadata": {
        "id": "58SkME66ZKTF"
      },
      "source": [
        "# Validation Data\n",
        "data=pd.DataFrame(val_data)\n",
        "data.to_csv('val.csv', index=False)"
      ],
      "execution_count": null,
      "outputs": []
    },
    {
      "cell_type": "code",
      "metadata": {
        "colab": {
          "base_uri": "https://localhost:8080/",
          "height": 235
        },
        "id": "-1NdDFiqZO0-",
        "outputId": "6f861702-17ad-4f18-f482-4b7bdd9ab58e"
      },
      "source": [
        "data.head()"
      ],
      "execution_count": null,
      "outputs": [
        {
          "output_type": "execute_result",
          "data": {
            "text/html": [
              "<div>\n",
              "<style scoped>\n",
              "    .dataframe tbody tr th:only-of-type {\n",
              "        vertical-align: middle;\n",
              "    }\n",
              "\n",
              "    .dataframe tbody tr th {\n",
              "        vertical-align: top;\n",
              "    }\n",
              "\n",
              "    .dataframe thead th {\n",
              "        text-align: right;\n",
              "    }\n",
              "</style>\n",
              "<table border=\"1\" class=\"dataframe\">\n",
              "  <thead>\n",
              "    <tr style=\"text-align: right;\">\n",
              "      <th></th>\n",
              "      <th>text</th>\n",
              "      <th>mood</th>\n",
              "      <th>selected_text</th>\n",
              "    </tr>\n",
              "    <tr>\n",
              "      <th>textID</th>\n",
              "      <th></th>\n",
              "      <th></th>\n",
              "      <th></th>\n",
              "    </tr>\n",
              "  </thead>\n",
              "  <tbody>\n",
              "    <tr>\n",
              "      <th>18001</th>\n",
              "      <td>im feeling quite sad and sorry for myself but ...</td>\n",
              "      <td>sadness</td>\n",
              "      <td>[im, feeling, quite, sad, sorry, ill, snap, soon]</td>\n",
              "    </tr>\n",
              "    <tr>\n",
              "      <th>18002</th>\n",
              "      <td>i feel like i am still looking at a blank canv...</td>\n",
              "      <td>sadness</td>\n",
              "      <td>[feel, like, still, looking, blank, canvas, bl...</td>\n",
              "    </tr>\n",
              "    <tr>\n",
              "      <th>18003</th>\n",
              "      <td>i feel like a faithful servant</td>\n",
              "      <td>love</td>\n",
              "      <td>[feel, like, faithful, servant]</td>\n",
              "    </tr>\n",
              "    <tr>\n",
              "      <th>18004</th>\n",
              "      <td>i am just feeling cranky and blue</td>\n",
              "      <td>anger</td>\n",
              "      <td>[feeling, cranky, blue]</td>\n",
              "    </tr>\n",
              "    <tr>\n",
              "      <th>18005</th>\n",
              "      <td>i can have for a treat or if i am feeling festive</td>\n",
              "      <td>joy</td>\n",
              "      <td>[treat, feeling, festive]</td>\n",
              "    </tr>\n",
              "  </tbody>\n",
              "</table>\n",
              "</div>"
            ],
            "text/plain": [
              "                                                     text  ...                                      selected_text\n",
              "textID                                                     ...                                                   \n",
              "18001   im feeling quite sad and sorry for myself but ...  ...  [im, feeling, quite, sad, sorry, ill, snap, soon]\n",
              "18002   i feel like i am still looking at a blank canv...  ...  [feel, like, still, looking, blank, canvas, bl...\n",
              "18003                      i feel like a faithful servant  ...                    [feel, like, faithful, servant]\n",
              "18004                   i am just feeling cranky and blue  ...                            [feeling, cranky, blue]\n",
              "18005   i can have for a treat or if i am feeling festive  ...                          [treat, feeling, festive]\n",
              "\n",
              "[5 rows x 3 columns]"
            ]
          },
          "metadata": {},
          "execution_count": 48
        }
      ]
    },
    {
      "cell_type": "markdown",
      "metadata": {
        "id": "31UstvIOXNmv"
      },
      "source": [
        "### Converting into Numpy Array"
      ]
    },
    {
      "cell_type": "code",
      "metadata": {
        "id": "dduRR0-0k9yz"
      },
      "source": [
        "from tensorflow.keras.utils import to_categorical\n",
        "y_target = to_categorical(train_data['Sentiment'].values)"
      ],
      "execution_count": null,
      "outputs": []
    },
    {
      "cell_type": "code",
      "metadata": {
        "colab": {
          "base_uri": "https://localhost:8080/"
        },
        "id": "kfiAA9qAl0_E",
        "outputId": "f87f59b3-e763-470c-a65e-335a66b2aa2b"
      },
      "source": [
        "train_data['Sentiment'].value_counts()"
      ],
      "execution_count": null,
      "outputs": [
        {
          "output_type": "execute_result",
          "data": {
            "text/plain": [
              "4    5362\n",
              "0    4666\n",
              "1    2159\n",
              "2    1937\n",
              "3    1304\n",
              "5     572\n",
              "Name: Sentiment, dtype: int64"
            ]
          },
          "metadata": {},
          "execution_count": 30
        }
      ]
    },
    {
      "cell_type": "code",
      "metadata": {
        "colab": {
          "base_uri": "https://localhost:8080/"
        },
        "id": "i1H3puRWltsl",
        "outputId": "1b7a4622-519a-4fa6-e66b-532fe8583360"
      },
      "source": [
        "y_target"
      ],
      "execution_count": null,
      "outputs": [
        {
          "output_type": "execute_result",
          "data": {
            "text/plain": [
              "array([[1., 0., 0., 0., 0., 0.],\n",
              "       [1., 0., 0., 0., 0., 0.],\n",
              "       [0., 1., 0., 0., 0., 0.],\n",
              "       ...,\n",
              "       [0., 0., 0., 0., 1., 0.],\n",
              "       [0., 1., 0., 0., 0., 0.],\n",
              "       [1., 0., 0., 0., 0., 0.]], dtype=float32)"
            ]
          },
          "metadata": {},
          "execution_count": 31
        }
      ]
    },
    {
      "cell_type": "code",
      "metadata": {
        "colab": {
          "base_uri": "https://localhost:8080/"
        },
        "id": "SK7oM8GOlBZj",
        "outputId": "204cab78-dffc-4688-953d-4a59aae037ae"
      },
      "source": [
        "y_target.shape"
      ],
      "execution_count": null,
      "outputs": [
        {
          "output_type": "execute_result",
          "data": {
            "text/plain": [
              "(16000, 6)"
            ]
          },
          "metadata": {},
          "execution_count": 32
        }
      ]
    },
    {
      "cell_type": "markdown",
      "metadata": {
        "id": "ltoMsqJFUs9y"
      },
      "source": [
        "### Graph Plotting"
      ]
    },
    {
      "cell_type": "code",
      "metadata": {
        "id": "VBeBd2TZm7yP"
      },
      "source": [
        "import matplotlib.pyplot as plt"
      ],
      "execution_count": null,
      "outputs": []
    },
    {
      "cell_type": "code",
      "metadata": {
        "colab": {
          "base_uri": "https://localhost:8080/",
          "height": 279
        },
        "id": "NclEO5T7lS2s",
        "outputId": "a4d016ac-18ec-4e18-c98e-50763e6c4af8"
      },
      "source": [
        "val_array = train_data['Sentiment'].value_counts().to_xarray()\n",
        "plt.bar(val_array.index, val_array)\n",
        "plt.xlabel('Sentiments')\n",
        "plt.show()"
      ],
      "execution_count": null,
      "outputs": [
        {
          "output_type": "display_data",
          "data": {
            "image/png": "[encoded data removed]",
            "text/plain": [
              "<Figure size 432x288 with 1 Axes>"
            ]
          },
          "metadata": {
            "needs_background": "light"
          }
        }
      ]
    },
    {
      "cell_type": "code",
      "metadata": {
        "colab": {
          "base_uri": "https://localhost:8080/",
          "height": 279
        },
        "id": "NaQETLyXm2Oj",
        "outputId": "72643e60-ac2d-49ae-f611-51fdedd7a62a"
      },
      "source": [
        "val_array = train_data['mood'].value_counts().to_xarray()\n",
        "plt.bar(val_array.index, val_array)\n",
        "plt.xlabel('Mood')\n",
        "plt.show()"
      ],
      "execution_count": null,
      "outputs": [
        {
          "output_type": "display_data",
          "data": {
            "image/png": "[encoded data removed]",
            "text/plain": [
              "<Figure size 432x288 with 1 Axes>"
            ]
          },
          "metadata": {
            "needs_background": "light"
          }
        }
      ]
    },
    {
      "cell_type": "code",
      "metadata": {
        "id": "YJmwock5nMJr"
      },
      "source": [
        "import tensorflow as tf\n",
        "from keras.preprocessing.text import Tokenizer\n",
        "from keras.preprocessing.sequence import pad_sequences"
      ],
      "execution_count": null,
      "outputs": []
    },
    {
      "cell_type": "code",
      "metadata": {
        "id": "Eby_K4ob8lps"
      },
      "source": [
        "from sklearn.model_selection import train_test_split\n",
        "\n",
        "X_train,X_val,y_train,y_val = train_test_split(train_sen,y_target,test_size = 0.2,stratify = y_target)"
      ],
      "execution_count": null,
      "outputs": []
    },
    {
      "cell_type": "code",
      "metadata": {
        "colab": {
          "base_uri": "https://localhost:8080/"
        },
        "id": "b_2JbS_28tuM",
        "outputId": "fc4c7817-ba0d-43b6-b6d6-b88905984446"
      },
      "source": [
        "X_train[0]"
      ],
      "execution_count": null,
      "outputs": [
        {
          "output_type": "execute_result",
          "data": {
            "text/plain": [
              "['feel', 'deprived', 'calorie', 'day']"
            ]
          },
          "metadata": {},
          "execution_count": 38
        }
      ]
    },
    {
      "cell_type": "code",
      "metadata": {
        "colab": {
          "base_uri": "https://localhost:8080/"
        },
        "id": "XPl0R5Ka8w2F",
        "outputId": "c29e85e8-3d7c-4933-ecc9-394f447f0af2"
      },
      "source": [
        "unique_words = set()\n",
        "len_max = -1\n",
        "\n",
        "for sent in tqdm(X_train):\n",
        "    unique_words.update(sent)\n",
        "    if(len_max < len(sent)):\n",
        "        len_max = len(sent)\n",
        "\n",
        "print('Words in vocab : ' , len(list(unique_words)))\n",
        "print('Max_length : ' , len_max)"
      ],
      "execution_count": null,
      "outputs": [
        {
          "output_type": "stream",
          "name": "stderr",
          "text": [
            "100%|██████████| 12800/12800 [00:00<00:00, 282113.74it/s]"
          ]
        },
        {
          "output_type": "stream",
          "name": "stdout",
          "text": [
            "Words in vocab :  11987\n",
            "Max_length :  35\n"
          ]
        },
        {
          "output_type": "stream",
          "name": "stderr",
          "text": [
            "\n"
          ]
        }
      ]
    },
    {
      "cell_type": "markdown",
      "metadata": {
        "id": "NJltysihVGKk"
      },
      "source": [
        "## Out-Of-Vocabulary(OOV)"
      ]
    },
    {
      "cell_type": "code",
      "metadata": {
        "id": "1igP2U6xbZNf"
      },
      "source": [
        "vocab_size = len(list(unique_words))\n",
        "embedding_dim = 300\n",
        "max_length = len_max\n",
        "trunc_type = 'post'\n",
        "padding_type = 'post'\n",
        "oov_tok = '<OOV>'"
      ],
      "execution_count": null,
      "outputs": []
    },
    {
      "cell_type": "code",
      "metadata": {
        "id": "-800Cq7VcqWN"
      },
      "source": [
        "tokenizer = Tokenizer(num_words = vocab_size,\n",
        "                      # filters = '#$%&()*+,-./:;<=>?@[\\\\]^_`{|}~\\t\\n',\n",
        "                      oov_token = oov_tok,\n",
        "                      # lower = True,\n",
        "                      char_level = False)\n",
        "\n",
        "tokenizer.fit_on_texts(list(X_train))\n",
        "\n",
        "# Training\n",
        "X_train = tokenizer.texts_to_sequences(X_train)\n",
        "X_train = pad_sequences(X_train,\n",
        "                        maxlen = max_length,\n",
        "                        padding = padding_type,\n",
        "                        truncating = trunc_type)\n",
        "\n",
        "# Validation\n",
        "X_val = tokenizer.texts_to_sequences(X_val)\n",
        "X_val = pad_sequences(X_val,\n",
        "                      maxlen = max_length,\n",
        "                      padding = padding_type,\n",
        "                      truncating = trunc_type)\n",
        "\n",
        "# Testing\n",
        "X_test = tokenizer.texts_to_sequences(test_sen)\n",
        "X_test = pad_sequences(X_test,\n",
        "                       maxlen = max_length,\n",
        "                       padding = padding_type,\n",
        "                       truncating = trunc_type)"
      ],
      "execution_count": null,
      "outputs": []
    },
    {
      "cell_type": "code",
      "metadata": {
        "colab": {
          "base_uri": "https://localhost:8080/"
        },
        "id": "GIX2J2itc82Q",
        "outputId": "39e2c375-fb30-4763-b265-6e7d83b03a08"
      },
      "source": [
        "print(\"X_training shape   : \",X_train.shape)\n",
        "print(\"X_validation shape : \",X_val.shape)\n",
        "print(\"X_testing shape    : \",X_test.shape)"
      ],
      "execution_count": null,
      "outputs": [
        {
          "output_type": "stream",
          "name": "stdout",
          "text": [
            "X_training shape   :  (12800, 35)\n",
            "X_validation shape :  (3200, 35)\n",
            "X_testing shape    :  (2000, 35)\n"
          ]
        }
      ]
    },
    {
      "cell_type": "markdown",
      "metadata": {
        "id": "lA7IGuG0Vdtz"
      },
      "source": [
        "### Model Building"
      ]
    },
    {
      "cell_type": "code",
      "metadata": {
        "id": "RByzbeDHdafg"
      },
      "source": [
        "from keras.models import Sequential\n",
        "from keras.layers import Dense,Bidirectional,LSTM,Activation,Conv1D,MaxPool1D,Dropout\n",
        "from keras.layers.embeddings import Embedding"
      ],
      "execution_count": null,
      "outputs": []
    },
    {
      "cell_type": "code",
      "metadata": {
        "colab": {
          "base_uri": "https://localhost:8080/"
        },
        "id": "ZUxz9hfPd0rg",
        "outputId": "4a35d3d4-18b6-4c61-da9e-4932ac1d86cd"
      },
      "source": [
        "model = Sequential()\n",
        "model.add(Embedding(vocab_size,embedding_dim,input_length = max_length))\n",
        "model.add(Bidirectional(LSTM(128,dropout = 0.2, recurrent_dropout = 0.2, return_sequences=True)))\n",
        "model.add(Bidirectional(LSTM(64, dropout = 0.2, recurrent_dropout = 0.2, return_sequences=False)))\n",
        "model.add(Dense(128,activation = 'relu'))\n",
        "model.add(Dense(y_target.shape[1],activation = 'softmax'))\n",
        "\n",
        "model.compile(loss = 'categorical_crossentropy',\n",
        "             optimizer = 'adam',\n",
        "             metrics = ['accuracy'])\n",
        "\n",
        "model.summary()"
      ],
      "execution_count": null,
      "outputs": [
        {
          "output_type": "stream",
          "name": "stdout",
          "text": [
            "Model: \"sequential\"\n",
            "_________________________________________________________________\n",
            "Layer (type)                 Output Shape              Param #   \n",
            "=================================================================\n",
            "embedding (Embedding)        (None, 35, 300)           3596100   \n",
            "_________________________________________________________________\n",
            "bidirectional (Bidirectional (None, 35, 256)           439296    \n",
            "_________________________________________________________________\n",
            "bidirectional_1 (Bidirection (None, 128)               164352    \n",
            "_________________________________________________________________\n",
            "dense (Dense)                (None, 128)               16512     \n",
            "_________________________________________________________________\n",
            "dense_1 (Dense)              (None, 6)                 774       \n",
            "=================================================================\n",
            "Total params: 4,217,034\n",
            "Trainable params: 4,217,034\n",
            "Non-trainable params: 0\n",
            "_________________________________________________________________\n"
          ]
        }
      ]
    },
    {
      "cell_type": "code",
      "metadata": {
        "id": "PNol7EDAd6AB"
      },
      "source": [
        "from keras.callbacks import EarlyStopping\n",
        "early_stopping = EarlyStopping(min_delta = 0.001,\n",
        "                               mode = 'max',\n",
        "                               monitor = 'accuracy',\n",
        "                               patience = 2)\n",
        "callback = [early_stopping]"
      ],
      "execution_count": null,
      "outputs": []
    },
    {
      "cell_type": "code",
      "metadata": {
        "colab": {
          "base_uri": "https://localhost:8080/"
        },
        "id": "ypvtJnBHd-zw",
        "outputId": "91f1987b-2210-48a0-ba2b-a28d59cd80a1"
      },
      "source": [
        "num_epochs = 4\n",
        "\n",
        "history = model.fit(X_train,y_train,\n",
        "                    epochs = num_epochs,\n",
        "                    batch_size = 256,\n",
        "                    verbose = 1,\n",
        "                    callbacks = callback)"
      ],
      "execution_count": null,
      "outputs": [
        {
          "output_type": "stream",
          "name": "stdout",
          "text": [
            "Epoch 1/4\n",
            "50/50 [==============================] - 109s 2s/step - loss: 1.5526 - accuracy: 0.3773\n",
            "Epoch 2/4\n",
            "50/50 [==============================] - 100s 2s/step - loss: 0.7342 - accuracy: 0.7343\n",
            "Epoch 3/4\n",
            "50/50 [==============================] - 101s 2s/step - loss: 0.2928 - accuracy: 0.8980\n",
            "Epoch 4/4\n",
            "50/50 [==============================] - 100s 2s/step - loss: 0.1344 - accuracy: 0.9573\n"
          ]
        }
      ]
    },
    {
      "cell_type": "markdown",
      "metadata": {
        "id": "K5A0nGHhV3pu"
      },
      "source": [
        "## Model Prediction(Output)"
      ]
    },
    {
      "cell_type": "code",
      "metadata": {
        "id": "eaOLEd_JeC8P"
      },
      "source": [
        "y_pred = np.argmax(model.predict(X_test),axis=-1)"
      ],
      "execution_count": null,
      "outputs": []
    },
    {
      "cell_type": "code",
      "metadata": {
        "colab": {
          "base_uri": "https://localhost:8080/"
        },
        "id": "kand303Ycu-r",
        "outputId": "e4fc7b14-de95-4c24-964c-5649ee00c527"
      },
      "source": [
        "y_pred"
      ],
      "execution_count": null,
      "outputs": [
        {
          "output_type": "execute_result",
          "data": {
            "text/plain": [
              "array([0, 0, 0, ..., 4, 4, 3])"
            ]
          },
          "metadata": {},
          "execution_count": 67
        }
      ]
    },
    {
      "cell_type": "code",
      "metadata": {
        "id": "a56t_iA-fmdL"
      },
      "source": [
        "submission_df = pd.DataFrame({'text': test_data['text'], 'mood': test_data['mood'],'Sentiment': y_pred})"
      ],
      "execution_count": null,
      "outputs": []
    },
    {
      "cell_type": "code",
      "metadata": {
        "colab": {
          "base_uri": "https://localhost:8080/"
        },
        "id": "a01ZJEdSttdj",
        "outputId": "5469622e-c0a1-46eb-a25e-960ee9aeb540"
      },
      "source": [
        "submission_df['Sentiment']= submission_df['Sentiment'].map(gdic)\n",
        "submission_df.to_csv('submission.csv', index=False)\n",
        "submission_df.info()"
      ],
      "execution_count": null,
      "outputs": [
        {
          "output_type": "stream",
          "name": "stdout",
          "text": [
            "<class 'pandas.core.frame.DataFrame'>\n",
            "Int64Index: 2000 entries, 16001 to 18000\n",
            "Data columns (total 3 columns):\n",
            " #   Column     Non-Null Count  Dtype \n",
            "---  ------     --------------  ----- \n",
            " 0   text       2000 non-null   object\n",
            " 1   mood       2000 non-null   object\n",
            " 2   Sentiment  2000 non-null   object\n",
            "dtypes: object(3)\n",
            "memory usage: 62.5+ KB\n"
          ]
        }
      ]
    },
    {
      "cell_type": "code",
      "metadata": {
        "colab": {
          "base_uri": "https://localhost:8080/",
          "height": 700
        },
        "id": "RiXJQTWnt6_L",
        "outputId": "24b5cc25-6ddf-4e4c-c258-77d12ac1d3d7"
      },
      "source": [
        "submission_df.head(20)"
      ],
      "execution_count": null,
      "outputs": [
        {
          "output_type": "execute_result",
          "data": {
            "text/html": [
              "<div>\n",
              "<style scoped>\n",
              "    .dataframe tbody tr th:only-of-type {\n",
              "        vertical-align: middle;\n",
              "    }\n",
              "\n",
              "    .dataframe tbody tr th {\n",
              "        vertical-align: top;\n",
              "    }\n",
              "\n",
              "    .dataframe thead th {\n",
              "        text-align: right;\n",
              "    }\n",
              "</style>\n",
              "<table border=\"1\" class=\"dataframe\">\n",
              "  <thead>\n",
              "    <tr style=\"text-align: right;\">\n",
              "      <th></th>\n",
              "      <th>text</th>\n",
              "      <th>mood</th>\n",
              "      <th>Sentiment</th>\n",
              "    </tr>\n",
              "    <tr>\n",
              "      <th>textID</th>\n",
              "      <th></th>\n",
              "      <th></th>\n",
              "      <th></th>\n",
              "    </tr>\n",
              "  </thead>\n",
              "  <tbody>\n",
              "    <tr>\n",
              "      <th>16001</th>\n",
              "      <td>im feeling rather rotten so im not very ambiti...</td>\n",
              "      <td>sadness</td>\n",
              "      <td>Negative</td>\n",
              "    </tr>\n",
              "    <tr>\n",
              "      <th>16002</th>\n",
              "      <td>im updating my blog because i feel shitty</td>\n",
              "      <td>sadness</td>\n",
              "      <td>Negative</td>\n",
              "    </tr>\n",
              "    <tr>\n",
              "      <th>16003</th>\n",
              "      <td>i never make her separate from me because i do...</td>\n",
              "      <td>sadness</td>\n",
              "      <td>Negative</td>\n",
              "    </tr>\n",
              "    <tr>\n",
              "      <th>16004</th>\n",
              "      <td>i left with my bouquet of red and yellow tulip...</td>\n",
              "      <td>joy</td>\n",
              "      <td>Positive</td>\n",
              "    </tr>\n",
              "    <tr>\n",
              "      <th>16005</th>\n",
              "      <td>i was feeling a little vain when i did this one</td>\n",
              "      <td>sadness</td>\n",
              "      <td>Negative</td>\n",
              "    </tr>\n",
              "    <tr>\n",
              "      <th>16006</th>\n",
              "      <td>i cant walk into a shop anywhere where i do no...</td>\n",
              "      <td>fear</td>\n",
              "      <td>Negative</td>\n",
              "    </tr>\n",
              "    <tr>\n",
              "      <th>16007</th>\n",
              "      <td>i felt anger when at the end of a telephone call</td>\n",
              "      <td>anger</td>\n",
              "      <td>Negative</td>\n",
              "    </tr>\n",
              "    <tr>\n",
              "      <th>16008</th>\n",
              "      <td>i explain why i clung to a relationship with a...</td>\n",
              "      <td>joy</td>\n",
              "      <td>Positive</td>\n",
              "    </tr>\n",
              "    <tr>\n",
              "      <th>16009</th>\n",
              "      <td>i like to have the same breathless feeling as ...</td>\n",
              "      <td>joy</td>\n",
              "      <td>Positive</td>\n",
              "    </tr>\n",
              "    <tr>\n",
              "      <th>16010</th>\n",
              "      <td>i jest i feel grumpy tired and pre menstrual w...</td>\n",
              "      <td>anger</td>\n",
              "      <td>Negative</td>\n",
              "    </tr>\n",
              "    <tr>\n",
              "      <th>16011</th>\n",
              "      <td>i don t feel particularly agitated</td>\n",
              "      <td>fear</td>\n",
              "      <td>Negative</td>\n",
              "    </tr>\n",
              "    <tr>\n",
              "      <th>16012</th>\n",
              "      <td>i feel beautifully emotional knowing that thes...</td>\n",
              "      <td>sadness</td>\n",
              "      <td>Negative</td>\n",
              "    </tr>\n",
              "    <tr>\n",
              "      <th>16013</th>\n",
              "      <td>i pay attention it deepens into a feeling of b...</td>\n",
              "      <td>fear</td>\n",
              "      <td>Negative</td>\n",
              "    </tr>\n",
              "    <tr>\n",
              "      <th>16014</th>\n",
              "      <td>i just feel extremely comfortable with the gro...</td>\n",
              "      <td>joy</td>\n",
              "      <td>Positive</td>\n",
              "    </tr>\n",
              "    <tr>\n",
              "      <th>16015</th>\n",
              "      <td>i find myself in the odd position of feeling s...</td>\n",
              "      <td>love</td>\n",
              "      <td>Positive</td>\n",
              "    </tr>\n",
              "    <tr>\n",
              "      <th>16016</th>\n",
              "      <td>i was feeling as heartbroken as im sure katnis...</td>\n",
              "      <td>sadness</td>\n",
              "      <td>Negative</td>\n",
              "    </tr>\n",
              "    <tr>\n",
              "      <th>16017</th>\n",
              "      <td>i feel a little mellow today</td>\n",
              "      <td>joy</td>\n",
              "      <td>Positive</td>\n",
              "    </tr>\n",
              "    <tr>\n",
              "      <th>16018</th>\n",
              "      <td>i feel like my only role now would be to tear ...</td>\n",
              "      <td>sadness</td>\n",
              "      <td>Negative</td>\n",
              "    </tr>\n",
              "    <tr>\n",
              "      <th>16019</th>\n",
              "      <td>i feel just bcoz a fight we get mad to each ot...</td>\n",
              "      <td>anger</td>\n",
              "      <td>Negative</td>\n",
              "    </tr>\n",
              "    <tr>\n",
              "      <th>16020</th>\n",
              "      <td>i feel like reds and purples are just so rich ...</td>\n",
              "      <td>joy</td>\n",
              "      <td>Positive</td>\n",
              "    </tr>\n",
              "  </tbody>\n",
              "</table>\n",
              "</div>"
            ],
            "text/plain": [
              "                                                     text     mood Sentiment\n",
              "textID                                                                      \n",
              "16001   im feeling rather rotten so im not very ambiti...  sadness  Negative\n",
              "16002           im updating my blog because i feel shitty  sadness  Negative\n",
              "16003   i never make her separate from me because i do...  sadness  Negative\n",
              "16004   i left with my bouquet of red and yellow tulip...      joy  Positive\n",
              "16005     i was feeling a little vain when i did this one  sadness  Negative\n",
              "16006   i cant walk into a shop anywhere where i do no...     fear  Negative\n",
              "16007    i felt anger when at the end of a telephone call    anger  Negative\n",
              "16008   i explain why i clung to a relationship with a...      joy  Positive\n",
              "16009   i like to have the same breathless feeling as ...      joy  Positive\n",
              "16010   i jest i feel grumpy tired and pre menstrual w...    anger  Negative\n",
              "16011                  i don t feel particularly agitated     fear  Negative\n",
              "16012   i feel beautifully emotional knowing that thes...  sadness  Negative\n",
              "16013   i pay attention it deepens into a feeling of b...     fear  Negative\n",
              "16014   i just feel extremely comfortable with the gro...      joy  Positive\n",
              "16015   i find myself in the odd position of feeling s...     love  Positive\n",
              "16016   i was feeling as heartbroken as im sure katnis...  sadness  Negative\n",
              "16017                        i feel a little mellow today      joy  Positive\n",
              "16018   i feel like my only role now would be to tear ...  sadness  Negative\n",
              "16019   i feel just bcoz a fight we get mad to each ot...    anger  Negative\n",
              "16020   i feel like reds and purples are just so rich ...      joy  Positive"
            ]
          },
          "metadata": {},
          "execution_count": 70
        }
      ]
    },
    {
      "cell_type": "markdown",
      "metadata": {
        "id": "-lcS3piRWFak"
      },
      "source": [
        "### Saving The Model"
      ]
    },
    {
      "cell_type": "code",
      "metadata": {
        "id": "Gt18Z5dGpOa5"
      },
      "source": [
        "model_json = model.to_json()"
      ],
      "execution_count": null,
      "outputs": []
    },
    {
      "cell_type": "code",
      "metadata": {
        "id": "fHmsi8MppgwO"
      },
      "source": [
        "import pickle\n",
        "with open('saved_tokenizer.pickle', 'wb') as handle:\n",
        "    pickle.dump(tokenizer, handle, protocol=pickle.HIGHEST_PROTOCOL)"
      ],
      "execution_count": null,
      "outputs": []
    },
    {
      "cell_type": "code",
      "metadata": {
        "id": "WqO86Er3cxxu"
      },
      "source": [
        "import joblib\n",
        "with open(\"saved_model.json\", \"w\") as json_file:\n",
        "    json_file.write(model_json)"
      ],
      "execution_count": null,
      "outputs": []
    },
    {
      "cell_type": "code",
      "metadata": {
        "id": "ijNVs4UBojjD"
      },
      "source": [
        ""
      ],
      "execution_count": null,
      "outputs": []
    }
  ]
}